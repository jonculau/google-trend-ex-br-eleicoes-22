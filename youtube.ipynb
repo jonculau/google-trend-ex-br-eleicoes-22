{
 "cells": [
  {
   "cell_type": "markdown",
   "metadata": {},
   "source": [
    "# Google Trends\n",
    "\n",
    "Google Trends é uma ferramenta do Google que mostra os mais populares termos buscados em um passado recente.\n",
    "\n",
    "## Relatório de comparação de tendências"
   ]
  },
  {
   "cell_type": "code",
   "execution_count": null,
   "metadata": {},
   "outputs": [],
   "source": [
    "import math\n",
    "from pickletools import uint8\n",
    "from pytrends.request import TrendReq\n",
    "from pandas import DataFrame\n",
    "import matplotlib.pyplot as plt\n",
    "import matplotlib.patches as mpatches\n",
    "\n",
    "def plotComparison(dataFrame:DataFrame, cols:uint8, showValues=False, Incerteza=False, ylin=[]):\n",
    "    plt.figure(figsize=(20,5))\n",
    "    Patch = []\n",
    "    if (len(ylin)>0):\n",
    "        plt.axes().set_ylim(ylin)\n",
    "    for col in dataFrame.columns[0:cols]:\n",
    "        color = 'red' if col == dataFrame.columns[0] else 'blue' if col == dataFrame.columns[1] else 'orange'\n",
    "        Patch.append(mpatches.Patch(color=color, label=col))\n",
    "        if Incerteza:\n",
    "            for i in range(len(dataFrame[col])):\n",
    "                plt.plot(dataFrame[col][i:i+2], label=col, color=color, linewidth=dataFrame['Incerteza'][i]*2)\n",
    "        else:\n",
    "            plt.plot(dataFrame[col], label=col, color=color)\n",
    "    plt.legend(handles=Patch)\n",
    "    if showValues:\n",
    "        for index, row in dataFrame.iterrows():\n",
    "            if index.minute == 0 and index.hour == 0 and index.second == 0 and index.microsecond == 0:\n",
    "                for col in dataFrame.columns[0:cols]:\n",
    "                    plt.text(index, row[col], \"{:.1f}\".format(row[col]))\n",
    "                \n",
    "\n",
    "# Palavras-chave\n",
    "kw_list = [\"Lula\", \"Bolsonaro\", \"lula bolsonaro\"]\n",
    "\n",
    "conn = TrendReq(hl='pt-BR', tz=360,  requests_args={'verify':False}) # Conexão com o Google Trends\n",
    "\n",
    "\n",
    "web = conn.get_historical_interest(kw_list, year_start=2022, month_start=10, day_start=3, hour_start=0, year_end=2022, month_end=10, day_end=30, hour_end=0, geo='BR', gprop='youtube') "
   ]
  },
  {
   "cell_type": "markdown",
   "metadata": {},
   "source": [
    "### Dados Lidos do Google Trends"
   ]
  },
  {
   "cell_type": "code",
   "execution_count": null,
   "metadata": {},
   "outputs": [],
   "source": [
    "plotComparison(web, 3)"
   ]
  },
  {
   "cell_type": "markdown",
   "metadata": {},
   "source": [
    "### Dados Acumulados (Escala Log)"
   ]
  },
  {
   "cell_type": "code",
   "execution_count": null,
   "metadata": {},
   "outputs": [],
   "source": [
    "accum = []\n",
    "idArr = []\n",
    "for index,row in web.iterrows():\n",
    "   idArr.append(index)\n",
    "   accum.append({'Lula':row['Lula'], 'Bolsonaro':row['Bolsonaro'], 'lula bolsonaro':row['lula bolsonaro']})\n",
    "   if len(accum) >= 2:\n",
    "       accum[-1]['Bolsonaro'] += accum[-2]['Bolsonaro'] \n",
    "       accum[-1]['Lula'] += accum[-2]['Lula']\n",
    "       accum[-1]['lula bolsonaro'] += accum[-2]['lula bolsonaro']\n",
    "       \n",
    "dataFrame = DataFrame(accum,index=idArr)\n",
    "dataFrame['Bolsonaro'] = dataFrame['Bolsonaro'].apply(lambda x: math.log(x))\n",
    "dataFrame['Lula'] = dataFrame['Lula'].apply(lambda x: math.log(x))\n",
    "dataFrame['lula bolsonaro'] = dataFrame['lula bolsonaro'].apply(lambda x: math.log(x))\n",
    "plotComparison(dataFrame, 3)"
   ]
  },
  {
   "cell_type": "markdown",
   "metadata": {},
   "source": [
    "## Acumulado (Percentual)\n",
    "\n",
    "(Espessura da linha determinada pelas pesquisas envolvendo os dois simultaneamente multiplicado por 2)\n"
   ]
  },
  {
   "cell_type": "code",
   "execution_count": null,
   "metadata": {},
   "outputs": [],
   "source": [
    "accumPercent = []\n",
    "for x in accum:\n",
    "   accumPercent.append({\n",
    "       'Lula':  x['Lula']/ (x['Bolsonaro'] + x['Lula']) * 100,\n",
    "       'Bolsonaro': x['Bolsonaro']/ (x['Bolsonaro'] + x['Lula']) * 100,\n",
    "       'Incerteza': x['lula bolsonaro'] / (x['Bolsonaro'] + x['Lula'] + x['lula bolsonaro']) * 100\n",
    "       })\n",
    "dataFrame = DataFrame(accumPercent,index=idArr)\n",
    "plotComparison(dataFrame, 2, True, True , ylin=[0,100])\n",
    "\n"
   ]
  }
 ],
 "metadata": {
  "kernelspec": {
   "display_name": "Python 3.9.12 ('base')",
   "language": "python",
   "name": "python3"
  },
  "language_info": {
   "codemirror_mode": {
    "name": "ipython",
    "version": 3
   },
   "file_extension": ".py",
   "mimetype": "text/x-python",
   "name": "python",
   "nbconvert_exporter": "python",
   "pygments_lexer": "ipython3",
   "version": "3.9.12"
  },
  "orig_nbformat": 4,
  "vscode": {
   "interpreter": {
    "hash": "b8f80083d36a171514fbcca479bc1bd443893062008ed001fb4477751e327a5a"
   }
  }
 },
 "nbformat": 4,
 "nbformat_minor": 2
}
