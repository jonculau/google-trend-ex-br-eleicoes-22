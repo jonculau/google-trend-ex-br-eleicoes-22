{
 "cells": [
  {
   "cell_type": "markdown",
   "metadata": {},
   "source": [
    "# Levantamento das eleições\n",
    "\n",
    "Estimativa de resultado, tomando como premissa o candidato mais pesquisado no google, utilizando como fonte de dados o google trend, considerando como zona de dúvida pesquisas envolvendo os dois nomes simultâneos."
   ]
  },
  {
   "cell_type": "code",
   "execution_count": null,
   "metadata": {},
   "outputs": [],
   "source": [
    "import math\n",
    "from pytrends.request import TrendReq\n",
    "from pandas import DataFrame\n",
    "from IPython.display import Markdown\n",
    "import matplotlib.pyplot as plt\n",
    "\n",
    "# Palavras-chave\n",
    "kw_list = [\"Lula\", \"Bolsonaro\", \"lula bolsonaro\"]\n",
    "\n",
    "conn = TrendReq(hl='pt-BR', tz=360,  requests_args={'verify':False})\n",
    "conn.build_payload(kw_list, timeframe='2022-10-03 2022-10-30', geo='BR', gprop='')\n",
    "web = conn.interest_over_time()\n",
    "\n",
    "conn.build_payload(kw_list, timeframe='2022-10-03 2022-10-30', geo='BR', gprop='news')\n",
    "news = conn.interest_over_time()\n",
    "\n",
    "data = {'News':[], 'Web':[]}\n",
    "\n",
    "totalWeb = {\n",
    "    'Bolsonaro': 0,\n",
    "    'Lula': 0,\n",
    "    'Neutro': 0,\n",
    "    'sub-total': 0,\n",
    "}\n",
    "\n",
    "totalNews = {\n",
    "    'Bolsonaro': 0,\n",
    "    'Lula': 0,\n",
    "    'Neutro': 0,\n",
    "    'sub-total': 0,\n",
    "}\n",
    "for i in range(len(web)):\n",
    "    \n",
    "    totalWeb['Bolsonaro'] += web['Bolsonaro'][i] \n",
    "    totalWeb['Lula'] += web['Lula'][i]\n",
    "    totalWeb['Neutro'] += web['lula bolsonaro'][i]\n",
    "    totalWeb ['sub-total'] = totalWeb['Bolsonaro'] + totalWeb['Lula'] \n",
    "    \n",
    "    totalNews['Bolsonaro'] += news['Bolsonaro'][i] \n",
    "    totalNews['Lula'] += news['Lula'][i]\n",
    "    totalNews['Neutro'] += news['lula bolsonaro'][i]\n",
    "    totalNews ['sub-total'] = totalNews['Bolsonaro'] + totalNews['Lula'] \n",
    "    \n",
    "    data['Web'].append({\n",
    "            'Bolsonaro': totalWeb.get('Bolsonaro')/ totalWeb.get('sub-total'),\n",
    "            'Lula': totalWeb.get('Lula')/ totalWeb.get('sub-total'),\n",
    "            'Incerteza': totalWeb.get('Neutro')/ (totalWeb.get('sub-total') + totalWeb.get('Neutro')),\n",
    "            'Vencedor do dia': 'Bolsonaro' if web['Bolsonaro'][i] > web['Lula'][i] else 'Lula' if web['Bolsonaro'][i] < web['Lula'][i] else 'Empate'\n",
    "        })\n",
    "    \n",
    "    data['News'].append ({\n",
    "            'Bolsonaro': totalNews.get('Bolsonaro')/ totalNews.get('sub-total'),\n",
    "            'Lula': totalNews.get('Lula')/ totalNews.get('sub-total'),\n",
    "            'Incerteza': totalNews.get('Neutro') / (totalNews.get('sub-total') + totalNews.get('Neutro')),\n",
    "            'Vencedor do dia': 'Bolsonaro' if news['Bolsonaro'][i] > news['Lula'][i] else 'Lula' if news['Bolsonaro'][i] < news['Lula'][i]  else 'Empate'\n",
    "        })\n"
   ]
  },
  {
   "cell_type": "code",
   "execution_count": null,
   "metadata": {},
   "outputs": [],
   "source": [
    "display(Markdown(\"## Totalizadores por dia (Resultados por News):\"))\n",
    "display(Markdown('### Incerteza: %0.1f%%' %  math.sqrt(data['News'][-1]['Incerteza'] * 100)))\n",
    "NewsFrame = DataFrame(data['News'])\n",
    "WebFrame = DataFrame(data['Web'])\n",
    "plt.figure(figsize=(20,5))\n",
    "plt.axes().set_ylim([0,100])\n",
    "Bolsonaro = NewsFrame['Bolsonaro'] * 100\n",
    "Lula = NewsFrame['Lula'] * 100\n",
    "plt.plot(Bolsonaro, label='Bolsonaro')\n",
    "plt.plot(Lula, label='Lula')\n",
    "for index in range(len(Bolsonaro)):\n",
    "  plt.text(index, Bolsonaro[index], '{:.1f}'.format(Bolsonaro[index]))\n",
    "  plt.text(index, Lula[index], '{:.1f}'.format(Lula[index]))\n",
    "plt.grid()\n",
    "plt.legend()\n"
   ]
  },
  {
   "cell_type": "code",
   "execution_count": null,
   "metadata": {},
   "outputs": [],
   "source": [
    "display(Markdown(\"## Totalizadores por dia (Resultados por WEB):\"))\n",
    "display(Markdown('### Incerteza: %0.1f%%' % math.sqrt(data['Web'][-1]['Incerteza'] * 100)))\n",
    "plt.figure(figsize=(20,5))\n",
    "plt.axes().set_ylim([0,100])\n",
    "Bolsonaro = WebFrame['Bolsonaro'] * 100\n",
    "Lula = WebFrame['Lula'] * 100\n",
    "plt.plot(Bolsonaro, label='Bolsonaro')\n",
    "plt.plot(Lula, label='Lula')\n",
    "for index in range(len(Bolsonaro)):\n",
    "  plt.text(index, Bolsonaro[index], '{:.1f}'.format(Bolsonaro[index]))\n",
    "  plt.text(index, Lula[index], '{:.1f}'.format(Lula[index]))\n",
    "  \n",
    "plt.grid()\n",
    "plt.legend()"
   ]
  }
 ],
 "metadata": {
  "kernelspec": {
   "display_name": "Python 3.9.7 64-bit",
   "language": "python",
   "name": "python3"
  },
  "language_info": {
   "codemirror_mode": {
    "name": "ipython",
    "version": 3
   },
   "file_extension": ".py",
   "mimetype": "text/x-python",
   "name": "python",
   "nbconvert_exporter": "python",
   "pygments_lexer": "ipython3",
   "version": "3.9.7"
  },
  "orig_nbformat": 4,
  "vscode": {
   "interpreter": {
    "hash": "81794d4967e6c3204c66dcd87b604927b115b27c00565d3d43f05ba2f3a2cb0d"
   }
  }
 },
 "nbformat": 4,
 "nbformat_minor": 2
}
